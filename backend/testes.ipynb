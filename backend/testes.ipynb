{
 "cells": [
  {
   "cell_type": "code",
   "execution_count": 5,
   "id": "54e8a213",
   "metadata": {},
   "outputs": [],
   "source": [
    "import pandas as pd\n",
    "import matplotlib.pyplot as mp"
   ]
  },
  {
   "cell_type": "code",
   "execution_count": 2,
   "id": "64da77f4",
   "metadata": {},
   "outputs": [
    {
     "name": "stderr",
     "output_type": "stream",
     "text": [
      "C:\\Users\\kalve\\AppData\\Local\\Temp\\ipykernel_28244\\140171325.py:2: DtypeWarning: Columns (5,7) have mixed types. Specify dtype option on import or set low_memory=False.\n",
      "  df = pd.read_csv(arquivo_csv, encoding='latin1', sep=';', on_bad_lines='skip')\n"
     ]
    }
   ],
   "source": [
    "arquivo_csv = r'C:\\Users\\kalve\\Documents\\damage-controller\\backend\\Banco_de_Dados 2.CSV'\n",
    "df = pd.read_csv(arquivo_csv, encoding='latin1', sep=';', on_bad_lines='skip')"
   ]
  },
  {
   "cell_type": "code",
   "execution_count": 4,
   "id": "3806ca64",
   "metadata": {},
   "outputs": [
    {
     "name": "stdout",
     "output_type": "stream",
     "text": [
      "DEFEITOS\n",
      "NÃO AJUSTA            2263\n",
      "DESCASCADO            1745\n",
      "DANIFICADO            1235\n",
      "O SEM DEFEITO         1174\n",
      "RISCO                  984\n",
      "                      ... \n",
      "VINCO - ESTRIA           1\n",
      "CASCA DE LARANJA         1\n",
      "DEFEITO DE INJEÇÃO       1\n",
      "ONDULAÇÃO                1\n",
      "MÁ REGULAGEM             1\n",
      "Name: count, Length: 67, dtype: int64\n"
     ]
    }
   ],
   "source": [
    "contador_def=df['DEFEITOS'].value_counts()\n",
    "print(contador_def)"
   ]
  },
  {
   "cell_type": "code",
   "execution_count": null,
   "id": "c1196f8a",
   "metadata": {},
   "outputs": [],
   "source": []
  }
 ],
 "metadata": {
  "kernelspec": {
   "display_name": "Python 3",
   "language": "python",
   "name": "python3"
  },
  "language_info": {
   "codemirror_mode": {
    "name": "ipython",
    "version": 3
   },
   "file_extension": ".py",
   "mimetype": "text/x-python",
   "name": "python",
   "nbconvert_exporter": "python",
   "pygments_lexer": "ipython3",
   "version": "3.12.10"
  }
 },
 "nbformat": 4,
 "nbformat_minor": 5
}
